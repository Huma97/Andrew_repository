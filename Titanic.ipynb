{
 "cells": [
  {
   "cell_type": "code",
   "execution_count": null,
   "metadata": {
    "_cell_guid": "b1076dfc-b9ad-4769-8c92-a6c4dae69d19",
    "_uuid": "8f2839f25d086af736a60e9eeb907d3b93b6e0e5",
    "collapsed": true
   },
   "outputs": [],
   "source": [
    "import numpy as np \n",
    "import pandas as pd \n",
    "import seaborn as sns\n",
    "from sklearn.preprocessing import StandardScaler\n",
    "from sklearn.cross_validation import cross_val_score\n",
    "from sklearn.ensemble import RandomForestClassifier\n",
    "from sklearn.cross_validation import StratifiedKFold\n",
    "from sklearn.neighbors import KNeighborsClassifier"
   ]
  },
  {
   "cell_type": "markdown",
   "metadata": {
    "_uuid": "369781f190c25382bb17954021381037ea4b1b96"
   },
   "source": [
    "### Загружаем данные"
   ]
  },
  {
   "cell_type": "code",
   "execution_count": null,
   "metadata": {
    "_cell_guid": "79c7e3d0-c299-4dcb-8224-4455121ee9b0",
    "_uuid": "d629ff2d2480ee46fbb7e2d37f6b5fab8052498a",
    "collapsed": true
   },
   "outputs": [],
   "source": [
    "train_data = pd.read_csv('train.csv')\n",
    "test_data = pd.read_csv('test.csv')\n",
    "data_for_ID = pd.read_csv('test.csv')"
   ]
  },
  {
   "cell_type": "markdown",
   "metadata": {
    "_uuid": "636ddeedbe5f1cfa987d541a7629bcbe10a2fc0c"
   },
   "source": [
    "### Посмотрим на данные"
   ]
  },
  {
   "cell_type": "code",
   "execution_count": null,
   "metadata": {
    "_uuid": "63920da772b59de5dfa7beee87a95a4d1c73d5a0",
    "collapsed": true
   },
   "outputs": [],
   "source": [
    "train_data.head()"
   ]
  },
  {
   "cell_type": "markdown",
   "metadata": {
    "_uuid": "c5850a3f92dd229feb2d7e95c2fc81ede2b584f6"
   },
   "source": [
    "### Избавимся от, как кажется, признаков, которые не несут особой информации"
   ]
  },
  {
   "cell_type": "code",
   "execution_count": null,
   "metadata": {
    "_uuid": "ffc07d888338707a53adec0d00e8e19130521376",
    "collapsed": true
   },
   "outputs": [],
   "source": [
    "train_data.drop(['PassengerId','Name','Ticket','Cabin'], axis=1, inplace=True)\n",
    "test_data.drop(['PassengerId','Name','Ticket','Cabin'], axis=1, inplace=True)"
   ]
  },
  {
   "cell_type": "code",
   "execution_count": null,
   "metadata": {
    "_uuid": "8bd25406245912ac31667622ba40ea36da167045",
    "collapsed": true
   },
   "outputs": [],
   "source": [
    "all_data = pd.concat([test_data, train_data])"
   ]
  },
  {
   "cell_type": "markdown",
   "metadata": {
    "_uuid": "127ebf8c5b5ac85d4b1a82cc4925abe9ad411412"
   },
   "source": [
    "### Проведем EDA"
   ]
  },
  {
   "cell_type": "code",
   "execution_count": null,
   "metadata": {
    "_uuid": "fd3eee738c783c7d87e4e5f932743ed8c25e4f8f",
    "collapsed": true
   },
   "outputs": [],
   "source": [
    "# Посмотрим как Pclass влияет на шанс пассажира спастись\n",
    "print(train_data[['Pclass', 'Survived']].groupby(['Pclass']).mean())\n",
    "sns.catplot(x='Pclass', y='Survived',  kind='bar', data=train_data)"
   ]
  },
  {
   "cell_type": "markdown",
   "metadata": {
    "_uuid": "2183354cb17cf7bebf4299a2c5bf90b5e588048a"
   },
   "source": [
    "### Таким образом, мы видим, что класс, которым плыл пассажир, по-разному влияет на его шанс спастись"
   ]
  },
  {
   "cell_type": "code",
   "execution_count": null,
   "metadata": {
    "_uuid": "f8286356737fe3691e2129bd2a8d8db6a4f6388e",
    "collapsed": true
   },
   "outputs": [],
   "source": [
    "### Так же посмотрим как пол влияет на шанс пассажира спастись\n",
    "print(train_data[['Sex', 'Survived']].groupby(['Sex']).mean())\n",
    "sns.catplot(x='Sex', y='Survived',  kind='bar', data=train_data)"
   ]
  },
  {
   "cell_type": "markdown",
   "metadata": {
    "_uuid": "4a2e4ebf5a3704ceaebcf55b7e04c6d4a5b22185"
   },
   "source": [
    "### Мы видим, что большинство спасшихся пассажиров - женщины"
   ]
  },
  {
   "cell_type": "code",
   "execution_count": null,
   "metadata": {
    "_uuid": "248cf79dd1e7b34b977dce04d1198cf8e4ecc7a3",
    "collapsed": true
   },
   "outputs": [],
   "source": [
    "# Посмотрим как заплаченные деньги влияют на шанс пассажира спастись\n",
    "g = sns.FacetGrid(train_data, col='Survived')\n",
    "g = g.map(sns.distplot, \"Fare\")"
   ]
  },
  {
   "cell_type": "markdown",
   "metadata": {
    "_uuid": "d5ff5fd2c0fad150e298696bb327032e917875a1"
   },
   "source": [
    "### Чем больше ты заплатил, тем больше твой шанс спастись"
   ]
  },
  {
   "cell_type": "code",
   "execution_count": null,
   "metadata": {
    "_uuid": "727d2543ab0fa9345dbe5cfd14798aaefa70bc30",
    "collapsed": true
   },
   "outputs": [],
   "source": [
    "# Посмотрим как возраст влияет на шанс пассажира спастись\n",
    "g = sns.FacetGrid(train_data, col='Survived')\n",
    "g = g.map(sns.distplot, \"Age\")"
   ]
  },
  {
   "cell_type": "markdown",
   "metadata": {
    "_uuid": "b14518cb87e44791b7f3c690a3003f7973a8df86"
   },
   "source": [
    "### Скорее всего первых на спасительные шлюпки сажали женщин и детей"
   ]
  },
  {
   "cell_type": "code",
   "execution_count": null,
   "metadata": {
    "_uuid": "5df08150b78f57e18cd656e65ad13d4ff2e5301d",
    "collapsed": true
   },
   "outputs": [],
   "source": [
    "# Посмотрим, как количесво родственников влияет на шанс пассажира спастись\n",
    "sns.catplot(x='SibSp', y='Survived', data=train_data, kind='bar')"
   ]
  },
  {
   "cell_type": "markdown",
   "metadata": {
    "_uuid": "05cbbb575258264c551a24a0da640da8d63fef50"
   },
   "source": [
    "### Можно заметить, что чем меньше родственников было у пассажира, тем больше был его шанс спастись"
   ]
  },
  {
   "cell_type": "markdown",
   "metadata": {
    "_uuid": "660bd0362e241954973cc363b0cc0fd40db89d94"
   },
   "source": [
    "### Заполним пропуски в данных и добавим новые признаки"
   ]
  },
  {
   "cell_type": "code",
   "execution_count": null,
   "metadata": {
    "_uuid": "78776b8798b88dfe0cb91315f48e3a7c9ddaa5ca",
    "collapsed": true
   },
   "outputs": [],
   "source": [
    "def munge_data(data):\n",
    "    #Замена пропусков на медианы\n",
    "    data[\"Age\"] = data.apply(lambda r: data.groupby(\"Sex\")[\"Age\"].median()[r[\"Sex\"]] \n",
    "                                      if pd.isnull(r[\"Age\"]) else r[\"Age\"], axis=1)\n",
    "    #Замена пропусков на медианы\n",
    "    data[\"Fare\"] = data.apply(lambda r: all_data.groupby(\"Pclass\")[\"Fare\"].median()[r[\"Pclass\"]] \n",
    "                              if pd.isnull(r[\"Fare\"]) else r[\"Fare\"], axis=1)\n",
    "    # Gender - замена\n",
    "    genders = {\"male\": 1, \"female\": 0}\n",
    "    data[\"Sex\"] = data[\"Sex\"].apply(lambda s: genders.get(s))\n",
    "    # Gender - расширение\n",
    "    gender_dummies = pd.get_dummies(data[\"Sex\"], prefix=\"SexD\", dummy_na=False)\n",
    "    data = pd.concat([data, gender_dummies], axis=1)\n",
    "    # Embarkment - замена\n",
    "    embarkments = {\"U\": 0, \"S\": 1, \"C\": 2, \"Q\": 3}\n",
    "    data[\"Embarked\"] = data[\"Embarked\"].fillna(\"U\").apply(lambda e: embarkments.get(e))\n",
    "    # Embarkment - расширение\n",
    "    embarkment_dummies = pd.get_dummies(data[\"Embarked\"], prefix=\"EmbarkedD\", dummy_na=False)\n",
    "    data = pd.concat([data, embarkment_dummies], axis=1)\n",
    "    # Количество родственников на борту\n",
    "    data[\"Relatives\"] = data[\"Parch\"] + data[\"SibSp\"]\n",
    "    \n",
    "    return(data)"
   ]
  },
  {
   "cell_type": "code",
   "execution_count": null,
   "metadata": {
    "_uuid": "26e073fc7ce7de0b0c17b2614ec8ca68e105fe79",
    "collapsed": true
   },
   "outputs": [],
   "source": [
    "train_data_munged = munge_data(train_data).drop(['EmbarkedD_0'],axis=1)\n",
    "test_data_munged = munge_data(test_data)"
   ]
  },
  {
   "cell_type": "markdown",
   "metadata": {
    "_uuid": "a55e6e45aacc7f2c9bc1da7cd9ddbdfaa5ebb16f"
   },
   "source": [
    "### Кросс-валидация на три фолда"
   ]
  },
  {
   "cell_type": "code",
   "execution_count": null,
   "metadata": {
    "_uuid": "5035b424c06308924e277b2caab83918e65f8a45",
    "collapsed": true
   },
   "outputs": [],
   "source": [
    "cv = StratifiedKFold(train_data[\"Survived\"], n_folds=3, shuffle=True, random_state=1)"
   ]
  },
  {
   "cell_type": "markdown",
   "metadata": {
    "_uuid": "8512d293d36a2bf729ad76edfbcab613d9f7b500"
   },
   "source": [
    "### Посмотрим на два алгоритма - Random Forest и K Nearest Neighbors"
   ]
  },
  {
   "cell_type": "code",
   "execution_count": null,
   "metadata": {
    "_uuid": "8d6dcfdedd3282a9d842db9597bd2bcf8c354667",
    "collapsed": true
   },
   "outputs": [],
   "source": [
    "alg = RandomForestClassifier(random_state=1, n_estimators=350, min_samples_split=6, min_samples_leaf=2)\n",
    "scores = cross_val_score(alg, train_data_munged, train_data_munged[\"Survived\"], cv=cv)\n",
    "print(\"Accuracy (random forest): {}\".format(scores.mean()))"
   ]
  },
  {
   "cell_type": "code",
   "execution_count": null,
   "metadata": {
    "_uuid": "e5071797bc6eaff1b97891cb5ab731c7c1dfa41e",
    "collapsed": true
   },
   "outputs": [],
   "source": [
    "alg_ngbh = KNeighborsClassifier(n_neighbors=3)\n",
    "scores = cross_val_score(alg_ngbh, train_data_munged, train_data_munged[\"Survived\"], cv=cv)\n",
    "print(\"Accuracy (k-neighbors): {}\".format(scores.mean()))"
   ]
  },
  {
   "cell_type": "markdown",
   "metadata": {
    "_uuid": "2473a0965d4fa87975cc7f4c2eae3aec67386cd3"
   },
   "source": [
    "### Для решения задачи будем использовать RandomForestClassifier"
   ]
  },
  {
   "cell_type": "code",
   "execution_count": null,
   "metadata": {
    "_uuid": "a76a19427178790bc64a91387c9de521e0d4b5e9",
    "collapsed": true
   },
   "outputs": [],
   "source": [
    "alg.fit(train_data_munged.drop([\"Survived\"],axis=1), train_data_munged[\"Survived\"])\n",
    "\n",
    "predictions = alg.predict(test_data_munged)\n",
    "\n",
    "submission = pd.DataFrame({\n",
    "    \"PassengerId\": data_for_ID[\"PassengerId\"],\n",
    "    \"Survived\": predictions\n",
    "})\n",
    "\n",
    "submission.to_csv(\"titanic-submission.csv\", index=False)"
   ]
  }
 ],
 "metadata": {
  "kernelspec": {
   "display_name": "Python 2",
   "language": "python",
   "name": "python2"
  },
  "language_info": {
   "codemirror_mode": {
    "name": "ipython",
    "version": 2
   },
   "file_extension": ".py",
   "mimetype": "text/x-python",
   "name": "python",
   "nbconvert_exporter": "python",
   "pygments_lexer": "ipython2",
   "version": "2.7.14"
  }
 },
 "nbformat": 4,
 "nbformat_minor": 1
}
